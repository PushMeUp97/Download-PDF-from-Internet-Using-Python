{
 "cells": [
  {
   "cell_type": "code",
   "execution_count": 5,
   "id": "9e6f025b-18c7-4d8f-b6c5-ec7a03d2996d",
   "metadata": {},
   "outputs": [
    {
     "name": "stdin",
     "output_type": "stream",
     "text": [
      "Enter Link to Download PDF :  https://www.sbs.ox.ac.uk/sites/default/files/2019-01/cv-template.pdf\n",
      "Enter a Name for the PDF File :  I am good with this PDF\n"
     ]
    },
    {
     "data": {
      "text/plain": [
       "('I am good with this PDF.pdf', <http.client.HTTPMessage at 0x2bc7c155040>)"
      ]
     },
     "execution_count": 5,
     "metadata": {},
     "output_type": "execute_result"
    }
   ],
   "source": [
    "import urllib. request\n",
    "url=input(\"Enter Link to Download PDF : \")\n",
    "Name=input(\"Enter a Name for the PDF File : \")\n",
    "FileName = Name+\".pdf\"\n",
    "urllib. request.urlretrieve(url, FileName)"
   ]
  },
  {
   "cell_type": "code",
   "execution_count": null,
   "id": "b3a8c467-2abc-4046-b9a2-d8fdf0f02a90",
   "metadata": {},
   "outputs": [],
   "source": []
  }
 ],
 "metadata": {
  "kernelspec": {
   "display_name": "Python 3 (ipykernel)",
   "language": "python",
   "name": "python3"
  },
  "language_info": {
   "codemirror_mode": {
    "name": "ipython",
    "version": 3
   },
   "file_extension": ".py",
   "mimetype": "text/x-python",
   "name": "python",
   "nbconvert_exporter": "python",
   "pygments_lexer": "ipython3",
   "version": "3.12.6"
  }
 },
 "nbformat": 4,
 "nbformat_minor": 5
}
